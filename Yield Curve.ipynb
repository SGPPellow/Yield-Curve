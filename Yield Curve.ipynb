{
 "cells": [
  {
   "cell_type": "markdown",
   "id": "cd246219",
   "metadata": {
    "vscode": {
     "languageId": "plaintext"
    }
   },
   "source": [
    "## Yield Curve "
   ]
  },
  {
   "cell_type": "markdown",
   "id": "79616c78",
   "metadata": {},
   "source": [
    "**A line that plots yields, or interest rates, of bonds that have equal credit quality but differing maturity dates.**"
   ]
  },
  {
   "cell_type": "markdown",
   "id": "bb4f9f88",
   "metadata": {},
   "source": [
    "##### **Types of Yield Curves:**\n",
    "##### **1. Normal Yield Curve:**<br>\n",
    "A normal yield curve shows low yields for shorter-maturity bonds and then increases for bonds with a longer maturity, sloping upwards. <br>\n",
    "<br>\n",
    "**Reason for upward slope:** lenders and bond investors who commit to tying up their money for longer periods of time take on more risk because it’s harder to forecast economic conditions – inflation, Federal Reserve policy, the global economy – over a decade than over the next week or month. The extra compensation that lenders and investors demand for making long-term loans is known as the term premium. With a positive term premium, the yield curve usually slopes upwards."
   ]
  },
  {
   "cell_type": "markdown",
   "id": "522b046a",
   "metadata": {},
   "source": [
    "![title](img/YieldCurve.webp)"
   ]
  },
  {
   "cell_type": "markdown",
   "id": "05b68d60",
   "metadata": {},
   "source": [
    "##### **2. Inverted Yield Curve:**\n",
    "An inverted yield curve slopes downward, with short-term interest rates exceeding long-term rates.\n",
    "\n",
    "It is often seen as a bad sign for the economy.\n",
    "\n",
    "Because long-term rate consists two components: term spread and expected short-term rate path over the lifetime of the bond. While the term spread stays positive most of the time, long-term interest rate would go down – inverting the yield curve – if markets expect that the economy will deteriorate and that the Fed will cut short-term rates in the future.\n",
    "\n"
   ]
  }
 ],
 "metadata": {
  "kernelspec": {
   "display_name": "Python 3 (ipykernel)",
   "language": "python",
   "name": "python3"
  },
  "language_info": {
   "codemirror_mode": {
    "name": "ipython",
    "version": 3
   },
   "file_extension": ".py",
   "mimetype": "text/x-python",
   "name": "python",
   "nbconvert_exporter": "python",
   "pygments_lexer": "ipython3",
   "version": "3.7.9"
  }
 },
 "nbformat": 4,
 "nbformat_minor": 5
}
