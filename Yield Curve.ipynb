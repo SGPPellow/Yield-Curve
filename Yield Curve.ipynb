{
 "cells": [
  {
   "cell_type": "markdown",
   "id": "79616c78",
   "metadata": {},
   "source": [
    "### Yield Curve: #### a line that plots yields, or interest rates, of bonds that have equal credit quality but differing maturity dates."
   ]
  },
  {
   "cell_type": "markdown",
   "id": "d1fe4d25",
   "metadata": {},
   "source": []
  }
 ],
 "metadata": {
  "kernelspec": {
   "display_name": "Python 3 (ipykernel)",
   "language": "python",
   "name": "python3"
  },
  "language_info": {
   "codemirror_mode": {
    "name": "ipython",
    "version": 3
   },
   "file_extension": ".py",
   "mimetype": "text/x-python",
   "name": "python",
   "nbconvert_exporter": "python",
   "pygments_lexer": "ipython3",
   "version": "3.7.9"
  }
 },
 "nbformat": 4,
 "nbformat_minor": 5
}
